{
 "cells": [
  {
   "cell_type": "markdown",
   "metadata": {},
   "source": [
    "## Installing Dependencies"
   ]
  },
  {
   "cell_type": "code",
   "execution_count": 1,
   "metadata": {
    "scrolled": true
   },
   "outputs": [
    {
     "name": "stdout",
     "output_type": "stream",
     "text": [
      "Requirement already satisfied: surprise in c:\\users\\gnitch\\anaconda3\\lib\\site-packages (0.1)\n",
      "Requirement already satisfied: scikit-surprise in c:\\users\\gnitch\\anaconda3\\lib\\site-packages (from surprise) (1.1.1)\n",
      "Requirement already satisfied: joblib>=0.11 in c:\\users\\gnitch\\anaconda3\\lib\\site-packages (from scikit-surprise->surprise) (0.17.0)\n",
      "Requirement already satisfied: scipy>=1.0.0 in c:\\users\\gnitch\\anaconda3\\lib\\site-packages (from scikit-surprise->surprise) (1.5.2)\n",
      "Requirement already satisfied: numpy>=1.11.2 in c:\\users\\gnitch\\anaconda3\\lib\\site-packages (from scikit-surprise->surprise) (1.19.2)\n",
      "Requirement already satisfied: six>=1.10.0 in c:\\users\\gnitch\\anaconda3\\lib\\site-packages (from scikit-surprise->surprise) (1.15.0)\n"
     ]
    }
   ],
   "source": [
    "!pip install surprise"
   ]
  },
  {
   "cell_type": "markdown",
   "metadata": {},
   "source": [
    "## Importing Libraries"
   ]
  },
  {
   "cell_type": "code",
   "execution_count": 2,
   "metadata": {
    "_cell_guid": "b1076dfc-b9ad-4769-8c92-a6c4dae69d19",
    "_uuid": "8f2839f25d086af736a60e9eeb907d3b93b6e0e5",
    "execution": {
     "iopub.execute_input": "2021-10-01T11:14:12.935586Z",
     "iopub.status.busy": "2021-10-01T11:14:12.935230Z",
     "iopub.status.idle": "2021-10-01T11:14:14.543476Z",
     "shell.execute_reply": "2021-10-01T11:14:14.542740Z",
     "shell.execute_reply.started": "2021-10-01T11:14:12.935554Z"
    }
   },
   "outputs": [],
   "source": [
    "%matplotlib inline\n",
    "import pandas as pd\n",
    "import numpy as np\n",
    "import matplotlib.pyplot as plt\n",
    "import seaborn as sns\n",
    "from scipy import stats\n",
    "from ast import literal_eval\n",
    "from sklearn.neighbors import NearestNeighbors\n",
    "from scipy.sparse import csr_matrix\n",
    "from sklearn.preprocessing import LabelBinarizer, MultiLabelBinarizer, MinMaxScaler\n",
    "from sklearn.feature_extraction.text import TfidfVectorizer, CountVectorizer\n",
    "from sklearn.metrics.pairwise import linear_kernel, cosine_similarity\n",
    "from nltk.stem.snowball import SnowballStemmer\n",
    "from nltk.stem.wordnet import WordNetLemmatizer\n",
    "from nltk.corpus import wordnet\n",
    "from surprise import Reader, Dataset, SVD\n",
    "from surprise.model_selection import cross_validate\n",
    "\n",
    "import warnings; warnings.simplefilter('ignore')"
   ]
  },
  {
   "cell_type": "code",
   "execution_count": 3,
   "metadata": {
    "execution": {
     "iopub.execute_input": "2021-10-01T11:14:14.550257Z",
     "iopub.status.busy": "2021-10-01T11:14:14.548287Z",
     "iopub.status.idle": "2021-10-01T11:14:34.721986Z",
     "shell.execute_reply": "2021-10-01T11:14:34.721153Z",
     "shell.execute_reply.started": "2021-10-01T11:14:14.550216Z"
    }
   },
   "outputs": [],
   "source": [
    "anime_info_df = pd.read_csv('anime.csv')\n",
    "anime_desc_df = pd.read_csv('anime_with_synopsis.csv')\n",
    "rating_df = pd.read_csv('rating.csv')"
   ]
  },
  {
   "cell_type": "code",
   "execution_count": 4,
   "metadata": {
    "execution": {
     "iopub.execute_input": "2021-10-01T11:14:34.723773Z",
     "iopub.status.busy": "2021-10-01T11:14:34.723507Z",
     "iopub.status.idle": "2021-10-01T11:14:34.761716Z",
     "shell.execute_reply": "2021-10-01T11:14:34.760928Z",
     "shell.execute_reply.started": "2021-10-01T11:14:34.723738Z"
    }
   },
   "outputs": [
    {
     "data": {
      "text/html": [
       "<div>\n",
       "<style scoped>\n",
       "    .dataframe tbody tr th:only-of-type {\n",
       "        vertical-align: middle;\n",
       "    }\n",
       "\n",
       "    .dataframe tbody tr th {\n",
       "        vertical-align: top;\n",
       "    }\n",
       "\n",
       "    .dataframe thead th {\n",
       "        text-align: right;\n",
       "    }\n",
       "</style>\n",
       "<table border=\"1\" class=\"dataframe\">\n",
       "  <thead>\n",
       "    <tr style=\"text-align: right;\">\n",
       "      <th></th>\n",
       "      <th>MAL_ID</th>\n",
       "      <th>Name</th>\n",
       "      <th>Score</th>\n",
       "      <th>Genres</th>\n",
       "      <th>English name</th>\n",
       "      <th>Japanese name</th>\n",
       "      <th>Type</th>\n",
       "      <th>Episodes</th>\n",
       "      <th>Aired</th>\n",
       "      <th>Premiered</th>\n",
       "      <th>...</th>\n",
       "      <th>Score-10</th>\n",
       "      <th>Score-9</th>\n",
       "      <th>Score-8</th>\n",
       "      <th>Score-7</th>\n",
       "      <th>Score-6</th>\n",
       "      <th>Score-5</th>\n",
       "      <th>Score-4</th>\n",
       "      <th>Score-3</th>\n",
       "      <th>Score-2</th>\n",
       "      <th>Score-1</th>\n",
       "    </tr>\n",
       "  </thead>\n",
       "  <tbody>\n",
       "    <tr>\n",
       "      <th>0</th>\n",
       "      <td>1</td>\n",
       "      <td>Cowboy Bebop</td>\n",
       "      <td>8.78</td>\n",
       "      <td>Action, Adventure, Comedy, Drama, Sci-Fi, Space</td>\n",
       "      <td>Cowboy Bebop</td>\n",
       "      <td>カウボーイビバップ</td>\n",
       "      <td>TV</td>\n",
       "      <td>26</td>\n",
       "      <td>Apr 3, 1998 to Apr 24, 1999</td>\n",
       "      <td>Spring 1998</td>\n",
       "      <td>...</td>\n",
       "      <td>229170.0</td>\n",
       "      <td>182126.0</td>\n",
       "      <td>131625.0</td>\n",
       "      <td>62330.0</td>\n",
       "      <td>20688.0</td>\n",
       "      <td>8904.0</td>\n",
       "      <td>3184.0</td>\n",
       "      <td>1357.0</td>\n",
       "      <td>741.0</td>\n",
       "      <td>1580.0</td>\n",
       "    </tr>\n",
       "    <tr>\n",
       "      <th>1</th>\n",
       "      <td>5</td>\n",
       "      <td>Cowboy Bebop: Tengoku no Tobira</td>\n",
       "      <td>8.39</td>\n",
       "      <td>Action, Drama, Mystery, Sci-Fi, Space</td>\n",
       "      <td>Cowboy Bebop:The Movie</td>\n",
       "      <td>カウボーイビバップ 天国の扉</td>\n",
       "      <td>Movie</td>\n",
       "      <td>1</td>\n",
       "      <td>Sep 1, 2001</td>\n",
       "      <td>Unknown</td>\n",
       "      <td>...</td>\n",
       "      <td>30043.0</td>\n",
       "      <td>49201.0</td>\n",
       "      <td>49505.0</td>\n",
       "      <td>22632.0</td>\n",
       "      <td>5805.0</td>\n",
       "      <td>1877.0</td>\n",
       "      <td>577.0</td>\n",
       "      <td>221.0</td>\n",
       "      <td>109.0</td>\n",
       "      <td>379.0</td>\n",
       "    </tr>\n",
       "    <tr>\n",
       "      <th>2</th>\n",
       "      <td>6</td>\n",
       "      <td>Trigun</td>\n",
       "      <td>8.24</td>\n",
       "      <td>Action, Sci-Fi, Adventure, Comedy, Drama, Shounen</td>\n",
       "      <td>Trigun</td>\n",
       "      <td>トライガン</td>\n",
       "      <td>TV</td>\n",
       "      <td>26</td>\n",
       "      <td>Apr 1, 1998 to Sep 30, 1998</td>\n",
       "      <td>Spring 1998</td>\n",
       "      <td>...</td>\n",
       "      <td>50229.0</td>\n",
       "      <td>75651.0</td>\n",
       "      <td>86142.0</td>\n",
       "      <td>49432.0</td>\n",
       "      <td>15376.0</td>\n",
       "      <td>5838.0</td>\n",
       "      <td>1965.0</td>\n",
       "      <td>664.0</td>\n",
       "      <td>316.0</td>\n",
       "      <td>533.0</td>\n",
       "    </tr>\n",
       "    <tr>\n",
       "      <th>3</th>\n",
       "      <td>7</td>\n",
       "      <td>Witch Hunter Robin</td>\n",
       "      <td>7.27</td>\n",
       "      <td>Action, Mystery, Police, Supernatural, Drama, ...</td>\n",
       "      <td>Witch Hunter Robin</td>\n",
       "      <td>Witch Hunter ROBIN (ウイッチハンターロビン)</td>\n",
       "      <td>TV</td>\n",
       "      <td>26</td>\n",
       "      <td>Jul 2, 2002 to Dec 24, 2002</td>\n",
       "      <td>Summer 2002</td>\n",
       "      <td>...</td>\n",
       "      <td>2182.0</td>\n",
       "      <td>4806.0</td>\n",
       "      <td>10128.0</td>\n",
       "      <td>11618.0</td>\n",
       "      <td>5709.0</td>\n",
       "      <td>2920.0</td>\n",
       "      <td>1083.0</td>\n",
       "      <td>353.0</td>\n",
       "      <td>164.0</td>\n",
       "      <td>131.0</td>\n",
       "    </tr>\n",
       "    <tr>\n",
       "      <th>4</th>\n",
       "      <td>8</td>\n",
       "      <td>Bouken Ou Beet</td>\n",
       "      <td>6.98</td>\n",
       "      <td>Adventure, Fantasy, Shounen, Supernatural</td>\n",
       "      <td>Beet the Vandel Buster</td>\n",
       "      <td>冒険王ビィト</td>\n",
       "      <td>TV</td>\n",
       "      <td>52</td>\n",
       "      <td>Sep 30, 2004 to Sep 29, 2005</td>\n",
       "      <td>Fall 2004</td>\n",
       "      <td>...</td>\n",
       "      <td>312.0</td>\n",
       "      <td>529.0</td>\n",
       "      <td>1242.0</td>\n",
       "      <td>1713.0</td>\n",
       "      <td>1068.0</td>\n",
       "      <td>634.0</td>\n",
       "      <td>265.0</td>\n",
       "      <td>83.0</td>\n",
       "      <td>50.0</td>\n",
       "      <td>27.0</td>\n",
       "    </tr>\n",
       "  </tbody>\n",
       "</table>\n",
       "<p>5 rows × 35 columns</p>\n",
       "</div>"
      ],
      "text/plain": [
       "   MAL_ID                             Name Score  \\\n",
       "0       1                     Cowboy Bebop  8.78   \n",
       "1       5  Cowboy Bebop: Tengoku no Tobira  8.39   \n",
       "2       6                           Trigun  8.24   \n",
       "3       7               Witch Hunter Robin  7.27   \n",
       "4       8                   Bouken Ou Beet  6.98   \n",
       "\n",
       "                                              Genres            English name  \\\n",
       "0    Action, Adventure, Comedy, Drama, Sci-Fi, Space            Cowboy Bebop   \n",
       "1              Action, Drama, Mystery, Sci-Fi, Space  Cowboy Bebop:The Movie   \n",
       "2  Action, Sci-Fi, Adventure, Comedy, Drama, Shounen                  Trigun   \n",
       "3  Action, Mystery, Police, Supernatural, Drama, ...      Witch Hunter Robin   \n",
       "4          Adventure, Fantasy, Shounen, Supernatural  Beet the Vandel Buster   \n",
       "\n",
       "                      Japanese name   Type Episodes  \\\n",
       "0                         カウボーイビバップ     TV       26   \n",
       "1                    カウボーイビバップ 天国の扉  Movie        1   \n",
       "2                             トライガン     TV       26   \n",
       "3  Witch Hunter ROBIN (ウイッチハンターロビン)     TV       26   \n",
       "4                            冒険王ビィト     TV       52   \n",
       "\n",
       "                          Aired    Premiered  ...  Score-10   Score-9  \\\n",
       "0   Apr 3, 1998 to Apr 24, 1999  Spring 1998  ...  229170.0  182126.0   \n",
       "1                   Sep 1, 2001      Unknown  ...   30043.0   49201.0   \n",
       "2   Apr 1, 1998 to Sep 30, 1998  Spring 1998  ...   50229.0   75651.0   \n",
       "3   Jul 2, 2002 to Dec 24, 2002  Summer 2002  ...    2182.0    4806.0   \n",
       "4  Sep 30, 2004 to Sep 29, 2005    Fall 2004  ...     312.0     529.0   \n",
       "\n",
       "    Score-8  Score-7  Score-6 Score-5 Score-4  Score-3  Score-2  Score-1  \n",
       "0  131625.0  62330.0  20688.0  8904.0  3184.0   1357.0    741.0   1580.0  \n",
       "1   49505.0  22632.0   5805.0  1877.0   577.0    221.0    109.0    379.0  \n",
       "2   86142.0  49432.0  15376.0  5838.0  1965.0    664.0    316.0    533.0  \n",
       "3   10128.0  11618.0   5709.0  2920.0  1083.0    353.0    164.0    131.0  \n",
       "4    1242.0   1713.0   1068.0   634.0   265.0     83.0     50.0     27.0  \n",
       "\n",
       "[5 rows x 35 columns]"
      ]
     },
     "execution_count": 4,
     "metadata": {},
     "output_type": "execute_result"
    }
   ],
   "source": [
    "anime_info_df.head(5)"
   ]
  },
  {
   "cell_type": "code",
   "execution_count": 5,
   "metadata": {
    "execution": {
     "iopub.execute_input": "2021-10-01T11:14:34.764155Z",
     "iopub.status.busy": "2021-10-01T11:14:34.763890Z",
     "iopub.status.idle": "2021-10-01T11:14:34.797437Z",
     "shell.execute_reply": "2021-10-01T11:14:34.796782Z",
     "shell.execute_reply.started": "2021-10-01T11:14:34.764120Z"
    }
   },
   "outputs": [
    {
     "data": {
      "text/html": [
       "<div>\n",
       "<style scoped>\n",
       "    .dataframe tbody tr th:only-of-type {\n",
       "        vertical-align: middle;\n",
       "    }\n",
       "\n",
       "    .dataframe tbody tr th {\n",
       "        vertical-align: top;\n",
       "    }\n",
       "\n",
       "    .dataframe thead th {\n",
       "        text-align: right;\n",
       "    }\n",
       "</style>\n",
       "<table border=\"1\" class=\"dataframe\">\n",
       "  <thead>\n",
       "    <tr style=\"text-align: right;\">\n",
       "      <th></th>\n",
       "      <th>MAL_ID</th>\n",
       "      <th>Name</th>\n",
       "      <th>Score</th>\n",
       "      <th>Genres</th>\n",
       "      <th>sypnopsis</th>\n",
       "      <th>Type</th>\n",
       "      <th>Popularity</th>\n",
       "      <th>Members</th>\n",
       "      <th>Favorites</th>\n",
       "    </tr>\n",
       "  </thead>\n",
       "  <tbody>\n",
       "    <tr>\n",
       "      <th>0</th>\n",
       "      <td>1</td>\n",
       "      <td>Cowboy Bebop</td>\n",
       "      <td>8.78</td>\n",
       "      <td>Action, Adventure, Comedy, Drama, Sci-Fi, Space</td>\n",
       "      <td>In the year 2071, humanity has colonized sever...</td>\n",
       "      <td>TV</td>\n",
       "      <td>39</td>\n",
       "      <td>1251960</td>\n",
       "      <td>61971</td>\n",
       "    </tr>\n",
       "    <tr>\n",
       "      <th>1</th>\n",
       "      <td>5</td>\n",
       "      <td>Cowboy Bebop: Tengoku no Tobira</td>\n",
       "      <td>8.39</td>\n",
       "      <td>Action, Drama, Mystery, Sci-Fi, Space</td>\n",
       "      <td>other day, another bounty—such is the life of ...</td>\n",
       "      <td>Movie</td>\n",
       "      <td>518</td>\n",
       "      <td>273145</td>\n",
       "      <td>1174</td>\n",
       "    </tr>\n",
       "    <tr>\n",
       "      <th>2</th>\n",
       "      <td>6</td>\n",
       "      <td>Trigun</td>\n",
       "      <td>8.24</td>\n",
       "      <td>Action, Sci-Fi, Adventure, Comedy, Drama, Shounen</td>\n",
       "      <td>Vash the Stampede is the man with a $$60,000,0...</td>\n",
       "      <td>TV</td>\n",
       "      <td>201</td>\n",
       "      <td>558913</td>\n",
       "      <td>12944</td>\n",
       "    </tr>\n",
       "    <tr>\n",
       "      <th>3</th>\n",
       "      <td>7</td>\n",
       "      <td>Witch Hunter Robin</td>\n",
       "      <td>7.27</td>\n",
       "      <td>Action, Mystery, Police, Supernatural, Drama, ...</td>\n",
       "      <td>ches are individuals with special powers like ...</td>\n",
       "      <td>TV</td>\n",
       "      <td>1467</td>\n",
       "      <td>94683</td>\n",
       "      <td>587</td>\n",
       "    </tr>\n",
       "    <tr>\n",
       "      <th>4</th>\n",
       "      <td>8</td>\n",
       "      <td>Bouken Ou Beet</td>\n",
       "      <td>6.98</td>\n",
       "      <td>Adventure, Fantasy, Shounen, Supernatural</td>\n",
       "      <td>It is the dark century and the people are suff...</td>\n",
       "      <td>TV</td>\n",
       "      <td>4369</td>\n",
       "      <td>13224</td>\n",
       "      <td>18</td>\n",
       "    </tr>\n",
       "    <tr>\n",
       "      <th>5</th>\n",
       "      <td>15</td>\n",
       "      <td>Eyeshield 21</td>\n",
       "      <td>7.95</td>\n",
       "      <td>Action, Sports, Comedy, Shounen</td>\n",
       "      <td>Sena is like any other shy kid starting high s...</td>\n",
       "      <td>TV</td>\n",
       "      <td>1003</td>\n",
       "      <td>148259</td>\n",
       "      <td>2066</td>\n",
       "    </tr>\n",
       "    <tr>\n",
       "      <th>6</th>\n",
       "      <td>16</td>\n",
       "      <td>Hachimitsu to Clover</td>\n",
       "      <td>8.06</td>\n",
       "      <td>Comedy, Drama, Josei, Romance, Slice of Life</td>\n",
       "      <td>Yuuta Takemoto, a sophomore at an arts college...</td>\n",
       "      <td>TV</td>\n",
       "      <td>687</td>\n",
       "      <td>214499</td>\n",
       "      <td>4101</td>\n",
       "    </tr>\n",
       "    <tr>\n",
       "      <th>7</th>\n",
       "      <td>17</td>\n",
       "      <td>Hungry Heart: Wild Striker</td>\n",
       "      <td>7.59</td>\n",
       "      <td>Slice of Life, Comedy, Sports, Shounen</td>\n",
       "      <td>Kyosuke Kano has lived under the shadow of his...</td>\n",
       "      <td>TV</td>\n",
       "      <td>3612</td>\n",
       "      <td>20470</td>\n",
       "      <td>231</td>\n",
       "    </tr>\n",
       "    <tr>\n",
       "      <th>8</th>\n",
       "      <td>18</td>\n",
       "      <td>Initial D Fourth Stage</td>\n",
       "      <td>8.15</td>\n",
       "      <td>Action, Cars, Sports, Drama, Seinen</td>\n",
       "      <td>Takumi Fujiwara finally joins Ryousuke and Kei...</td>\n",
       "      <td>TV</td>\n",
       "      <td>1233</td>\n",
       "      <td>117929</td>\n",
       "      <td>979</td>\n",
       "    </tr>\n",
       "    <tr>\n",
       "      <th>9</th>\n",
       "      <td>19</td>\n",
       "      <td>Monster</td>\n",
       "      <td>8.76</td>\n",
       "      <td>Drama, Horror, Mystery, Police, Psychological,...</td>\n",
       "      <td>Dr. Kenzou Tenma, an elite neurosurgeon recent...</td>\n",
       "      <td>TV</td>\n",
       "      <td>169</td>\n",
       "      <td>614100</td>\n",
       "      <td>29436</td>\n",
       "    </tr>\n",
       "  </tbody>\n",
       "</table>\n",
       "</div>"
      ],
      "text/plain": [
       "   MAL_ID                             Name Score  \\\n",
       "0       1                     Cowboy Bebop  8.78   \n",
       "1       5  Cowboy Bebop: Tengoku no Tobira  8.39   \n",
       "2       6                           Trigun  8.24   \n",
       "3       7               Witch Hunter Robin  7.27   \n",
       "4       8                   Bouken Ou Beet  6.98   \n",
       "5      15                     Eyeshield 21  7.95   \n",
       "6      16             Hachimitsu to Clover  8.06   \n",
       "7      17       Hungry Heart: Wild Striker  7.59   \n",
       "8      18           Initial D Fourth Stage  8.15   \n",
       "9      19                          Monster  8.76   \n",
       "\n",
       "                                              Genres  \\\n",
       "0    Action, Adventure, Comedy, Drama, Sci-Fi, Space   \n",
       "1              Action, Drama, Mystery, Sci-Fi, Space   \n",
       "2  Action, Sci-Fi, Adventure, Comedy, Drama, Shounen   \n",
       "3  Action, Mystery, Police, Supernatural, Drama, ...   \n",
       "4          Adventure, Fantasy, Shounen, Supernatural   \n",
       "5                    Action, Sports, Comedy, Shounen   \n",
       "6       Comedy, Drama, Josei, Romance, Slice of Life   \n",
       "7             Slice of Life, Comedy, Sports, Shounen   \n",
       "8                Action, Cars, Sports, Drama, Seinen   \n",
       "9  Drama, Horror, Mystery, Police, Psychological,...   \n",
       "\n",
       "                                           sypnopsis   Type  Popularity  \\\n",
       "0  In the year 2071, humanity has colonized sever...     TV          39   \n",
       "1  other day, another bounty—such is the life of ...  Movie         518   \n",
       "2  Vash the Stampede is the man with a $$60,000,0...     TV         201   \n",
       "3  ches are individuals with special powers like ...     TV        1467   \n",
       "4  It is the dark century and the people are suff...     TV        4369   \n",
       "5  Sena is like any other shy kid starting high s...     TV        1003   \n",
       "6  Yuuta Takemoto, a sophomore at an arts college...     TV         687   \n",
       "7  Kyosuke Kano has lived under the shadow of his...     TV        3612   \n",
       "8  Takumi Fujiwara finally joins Ryousuke and Kei...     TV        1233   \n",
       "9  Dr. Kenzou Tenma, an elite neurosurgeon recent...     TV         169   \n",
       "\n",
       "   Members  Favorites  \n",
       "0  1251960      61971  \n",
       "1   273145       1174  \n",
       "2   558913      12944  \n",
       "3    94683        587  \n",
       "4    13224         18  \n",
       "5   148259       2066  \n",
       "6   214499       4101  \n",
       "7    20470        231  \n",
       "8   117929        979  \n",
       "9   614100      29436  "
      ]
     },
     "execution_count": 5,
     "metadata": {},
     "output_type": "execute_result"
    }
   ],
   "source": [
    "anime_df = pd.merge(anime_desc_df,anime_info_df[['MAL_ID','Type','Popularity','Members','Favorites']],on='MAL_ID')\n",
    "anime_df.head(10)"
   ]
  },
  {
   "cell_type": "code",
   "execution_count": 6,
   "metadata": {
    "execution": {
     "iopub.execute_input": "2021-10-01T11:14:34.798780Z",
     "iopub.status.busy": "2021-10-01T11:14:34.798538Z",
     "iopub.status.idle": "2021-10-01T11:14:34.817245Z",
     "shell.execute_reply": "2021-10-01T11:14:34.816486Z",
     "shell.execute_reply.started": "2021-10-01T11:14:34.798751Z"
    }
   },
   "outputs": [
    {
     "data": {
      "text/plain": [
       "(5848, 9)"
      ]
     },
     "execution_count": 6,
     "metadata": {},
     "output_type": "execute_result"
    }
   ],
   "source": [
    "anime_df = anime_df[(anime_df[\"Score\"] != \"Unknown\") & ((anime_df[\"Type\"] == \"TV\") | (anime_df[\"Type\"] == \"Movie\")) ] \n",
    "anime_df.shape"
   ]
  },
  {
   "cell_type": "markdown",
   "metadata": {},
   "source": [
    "## Content  Filtering"
   ]
  },
  {
   "cell_type": "code",
   "execution_count": 7,
   "metadata": {
    "execution": {
     "iopub.execute_input": "2021-10-01T11:14:34.818834Z",
     "iopub.status.busy": "2021-10-01T11:14:34.818561Z",
     "iopub.status.idle": "2021-10-01T11:14:34.824601Z",
     "shell.execute_reply": "2021-10-01T11:14:34.823763Z",
     "shell.execute_reply.started": "2021-10-01T11:14:34.818793Z"
    }
   },
   "outputs": [],
   "source": [
    "anime_df['sypnopsis'] = anime_df['sypnopsis'].fillna('')"
   ]
  },
  {
   "cell_type": "code",
   "execution_count": 8,
   "metadata": {
    "execution": {
     "iopub.execute_input": "2021-10-01T11:14:34.826326Z",
     "iopub.status.busy": "2021-10-01T11:14:34.826070Z",
     "iopub.status.idle": "2021-10-01T11:14:36.617056Z",
     "shell.execute_reply": "2021-10-01T11:14:36.616197Z",
     "shell.execute_reply.started": "2021-10-01T11:14:34.826293Z"
    }
   },
   "outputs": [
    {
     "data": {
      "text/plain": [
       "(5848, 278437)"
      ]
     },
     "execution_count": 8,
     "metadata": {},
     "output_type": "execute_result"
    }
   ],
   "source": [
    "tfidf = TfidfVectorizer(analyzer='word',ngram_range=(1, 2),min_df=0, stop_words='english')\n",
    "tfidf_matrix = tfidf.fit_transform(anime_df['sypnopsis'])\n",
    "tfidf_matrix.shape"
   ]
  },
  {
   "cell_type": "code",
   "execution_count": 9,
   "metadata": {
    "execution": {
     "iopub.execute_input": "2021-10-01T11:14:36.618988Z",
     "iopub.status.busy": "2021-10-01T11:14:36.618684Z",
     "iopub.status.idle": "2021-10-01T11:14:37.509497Z",
     "shell.execute_reply": "2021-10-01T11:14:37.508608Z",
     "shell.execute_reply.started": "2021-10-01T11:14:36.618951Z"
    }
   },
   "outputs": [
    {
     "data": {
      "text/plain": [
       "(5848, 5848)"
      ]
     },
     "execution_count": 9,
     "metadata": {},
     "output_type": "execute_result"
    }
   ],
   "source": [
    "cosine_sim = linear_kernel(tfidf_matrix, tfidf_matrix)\n",
    "cosine_sim.shape"
   ]
  },
  {
   "cell_type": "code",
   "execution_count": 10,
   "metadata": {
    "execution": {
     "iopub.execute_input": "2021-10-01T11:14:37.511422Z",
     "iopub.status.busy": "2021-10-01T11:14:37.511140Z",
     "iopub.status.idle": "2021-10-01T11:14:37.519846Z",
     "shell.execute_reply": "2021-10-01T11:14:37.519125Z",
     "shell.execute_reply.started": "2021-10-01T11:14:37.511385Z"
    }
   },
   "outputs": [],
   "source": [
    "anime_df = anime_df.reset_index()\n",
    "titles = anime_df['Name']\n",
    "indices = pd.Series(anime_df.index, index=anime_df['Name'])"
   ]
  },
  {
   "cell_type": "code",
   "execution_count": 11,
   "metadata": {
    "execution": {
     "iopub.execute_input": "2021-10-01T11:14:37.523094Z",
     "iopub.status.busy": "2021-10-01T11:14:37.522629Z",
     "iopub.status.idle": "2021-10-01T11:14:37.535109Z",
     "shell.execute_reply": "2021-10-01T11:14:37.534339Z",
     "shell.execute_reply.started": "2021-10-01T11:14:37.523053Z"
    }
   },
   "outputs": [],
   "source": [
    "def content_recommendations(title):\n",
    "    idx = indices[title]\n",
    "    sim_scores = list(enumerate(cosine_sim[idx]))\n",
    "    sim_scores = sorted(sim_scores, key=lambda x: x[1], reverse=True)\n",
    "    sim_scores = sim_scores[1:31]\n",
    "    anime_indices = [i[0] for i in sim_scores]\n",
    "    \n",
    "    anime_lst = anime_df.iloc[anime_indices][['Name', 'Members', 'Score']]\n",
    "    favorite_count = anime_lst[anime_lst['Members'].notnull()]['Members'].astype('int')\n",
    "    score_avg = anime_lst[anime_lst['Score'].notnull()]['Score'].astype('float')\n",
    "    C = score_avg.mean()\n",
    "    m = favorite_count.quantile(0.60)\n",
    "    qualified = anime_lst[(anime_lst['Members'] >= m) & (anime_lst['Members'].notnull()) & (anime_lst['Score'].notnull())]\n",
    "    qualified['Members'] = qualified['Members'].astype('int')\n",
    "    qualified['Score'] = qualified['Score'].astype('float')\n",
    "    def weighted_rating(x):\n",
    "        v = x['Members']\n",
    "        R = x['Score']\n",
    "        return (v/(v+m) * R) + (m/(m+v) * C)   \n",
    "    \n",
    "    qualified['wr'] = qualified.apply(weighted_rating, axis=1)\n",
    "    qualified = qualified.sort_values('wr', ascending=False).head(10)\n",
    "    \n",
    "    return qualified"
   ]
  },
  {
   "cell_type": "code",
   "execution_count": 12,
   "metadata": {
    "execution": {
     "iopub.execute_input": "2021-10-01T11:14:37.536382Z",
     "iopub.status.busy": "2021-10-01T11:14:37.536181Z",
     "iopub.status.idle": "2021-10-01T11:14:37.583473Z",
     "shell.execute_reply": "2021-10-01T11:14:37.582769Z",
     "shell.execute_reply.started": "2021-10-01T11:14:37.536354Z"
    }
   },
   "outputs": [
    {
     "data": {
      "text/html": [
       "<div>\n",
       "<style scoped>\n",
       "    .dataframe tbody tr th:only-of-type {\n",
       "        vertical-align: middle;\n",
       "    }\n",
       "\n",
       "    .dataframe tbody tr th {\n",
       "        vertical-align: top;\n",
       "    }\n",
       "\n",
       "    .dataframe thead th {\n",
       "        text-align: right;\n",
       "    }\n",
       "</style>\n",
       "<table border=\"1\" class=\"dataframe\">\n",
       "  <thead>\n",
       "    <tr style=\"text-align: right;\">\n",
       "      <th></th>\n",
       "      <th>Name</th>\n",
       "      <th>Members</th>\n",
       "      <th>Score</th>\n",
       "      <th>wr</th>\n",
       "    </tr>\n",
       "  </thead>\n",
       "  <tbody>\n",
       "    <tr>\n",
       "      <th>126</th>\n",
       "      <td>Mononoke Hime</td>\n",
       "      <td>876813</td>\n",
       "      <td>8.72</td>\n",
       "      <td>8.447186</td>\n",
       "    </tr>\n",
       "    <tr>\n",
       "      <th>1011</th>\n",
       "      <td>Naruto: Shippuuden</td>\n",
       "      <td>1543765</td>\n",
       "      <td>8.16</td>\n",
       "      <td>8.050984</td>\n",
       "    </tr>\n",
       "    <tr>\n",
       "      <th>623</th>\n",
       "      <td>Higurashi no Naku Koro ni</td>\n",
       "      <td>638491</td>\n",
       "      <td>7.95</td>\n",
       "      <td>7.766235</td>\n",
       "    </tr>\n",
       "    <tr>\n",
       "      <th>3495</th>\n",
       "      <td>The Last: Naruto the Movie</td>\n",
       "      <td>352160</td>\n",
       "      <td>7.76</td>\n",
       "      <td>7.541194</td>\n",
       "    </tr>\n",
       "    <tr>\n",
       "      <th>3326</th>\n",
       "      <td>Naruto: Shippuuden Movie 6 - Road to Ninja</td>\n",
       "      <td>223826</td>\n",
       "      <td>7.67</td>\n",
       "      <td>7.421472</td>\n",
       "    </tr>\n",
       "    <tr>\n",
       "      <th>4091</th>\n",
       "      <td>Boruto: Naruto the Movie</td>\n",
       "      <td>320603</td>\n",
       "      <td>7.50</td>\n",
       "      <td>7.360519</td>\n",
       "    </tr>\n",
       "    <tr>\n",
       "      <th>3445</th>\n",
       "      <td>Kamisama no Inai Nichiyoubi</td>\n",
       "      <td>190201</td>\n",
       "      <td>7.35</td>\n",
       "      <td>7.233971</td>\n",
       "    </tr>\n",
       "    <tr>\n",
       "      <th>1326</th>\n",
       "      <td>Naruto: Shippuuden Movie 1</td>\n",
       "      <td>211544</td>\n",
       "      <td>7.29</td>\n",
       "      <td>7.207811</td>\n",
       "    </tr>\n",
       "    <tr>\n",
       "      <th>2012</th>\n",
       "      <td>Naruto: Shippuuden Movie 2 - Kizuna</td>\n",
       "      <td>188680</td>\n",
       "      <td>7.29</td>\n",
       "      <td>7.202700</td>\n",
       "    </tr>\n",
       "    <tr>\n",
       "      <th>325</th>\n",
       "      <td>Naruto Movie 1: Dai Katsugeki!! Yuki Hime Shin...</td>\n",
       "      <td>215046</td>\n",
       "      <td>7.10</td>\n",
       "      <td>7.104845</td>\n",
       "    </tr>\n",
       "  </tbody>\n",
       "</table>\n",
       "</div>"
      ],
      "text/plain": [
       "                                                   Name  Members  Score  \\\n",
       "126                                       Mononoke Hime   876813   8.72   \n",
       "1011                                 Naruto: Shippuuden  1543765   8.16   \n",
       "623                           Higurashi no Naku Koro ni   638491   7.95   \n",
       "3495                         The Last: Naruto the Movie   352160   7.76   \n",
       "3326         Naruto: Shippuuden Movie 6 - Road to Ninja   223826   7.67   \n",
       "4091                           Boruto: Naruto the Movie   320603   7.50   \n",
       "3445                        Kamisama no Inai Nichiyoubi   190201   7.35   \n",
       "1326                         Naruto: Shippuuden Movie 1   211544   7.29   \n",
       "2012                Naruto: Shippuuden Movie 2 - Kizuna   188680   7.29   \n",
       "325   Naruto Movie 1: Dai Katsugeki!! Yuki Hime Shin...   215046   7.10   \n",
       "\n",
       "            wr  \n",
       "126   8.447186  \n",
       "1011  8.050984  \n",
       "623   7.766235  \n",
       "3495  7.541194  \n",
       "3326  7.421472  \n",
       "4091  7.360519  \n",
       "3445  7.233971  \n",
       "1326  7.207811  \n",
       "2012  7.202700  \n",
       "325   7.104845  "
      ]
     },
     "execution_count": 12,
     "metadata": {},
     "output_type": "execute_result"
    }
   ],
   "source": [
    "content_recommendations('Naruto').head(10)"
   ]
  },
  {
   "cell_type": "markdown",
   "metadata": {},
   "source": [
    "## Collaborative Filtering"
   ]
  },
  {
   "cell_type": "code",
   "execution_count": 13,
   "metadata": {
    "execution": {
     "iopub.execute_input": "2021-10-01T11:14:37.584940Z",
     "iopub.status.busy": "2021-10-01T11:14:37.584666Z",
     "iopub.status.idle": "2021-10-01T11:14:37.595250Z",
     "shell.execute_reply": "2021-10-01T11:14:37.594234Z",
     "shell.execute_reply.started": "2021-10-01T11:14:37.584908Z"
    },
    "scrolled": true
   },
   "outputs": [
    {
     "data": {
      "text/html": [
       "<div>\n",
       "<style scoped>\n",
       "    .dataframe tbody tr th:only-of-type {\n",
       "        vertical-align: middle;\n",
       "    }\n",
       "\n",
       "    .dataframe tbody tr th {\n",
       "        vertical-align: top;\n",
       "    }\n",
       "\n",
       "    .dataframe thead th {\n",
       "        text-align: right;\n",
       "    }\n",
       "</style>\n",
       "<table border=\"1\" class=\"dataframe\">\n",
       "  <thead>\n",
       "    <tr style=\"text-align: right;\">\n",
       "      <th></th>\n",
       "      <th>user_id</th>\n",
       "      <th>anime_id</th>\n",
       "      <th>rating</th>\n",
       "    </tr>\n",
       "  </thead>\n",
       "  <tbody>\n",
       "    <tr>\n",
       "      <th>0</th>\n",
       "      <td>1</td>\n",
       "      <td>20</td>\n",
       "      <td>-1</td>\n",
       "    </tr>\n",
       "    <tr>\n",
       "      <th>1</th>\n",
       "      <td>1</td>\n",
       "      <td>24</td>\n",
       "      <td>-1</td>\n",
       "    </tr>\n",
       "    <tr>\n",
       "      <th>2</th>\n",
       "      <td>1</td>\n",
       "      <td>79</td>\n",
       "      <td>-1</td>\n",
       "    </tr>\n",
       "    <tr>\n",
       "      <th>3</th>\n",
       "      <td>1</td>\n",
       "      <td>226</td>\n",
       "      <td>-1</td>\n",
       "    </tr>\n",
       "    <tr>\n",
       "      <th>4</th>\n",
       "      <td>1</td>\n",
       "      <td>241</td>\n",
       "      <td>-1</td>\n",
       "    </tr>\n",
       "    <tr>\n",
       "      <th>5</th>\n",
       "      <td>1</td>\n",
       "      <td>355</td>\n",
       "      <td>-1</td>\n",
       "    </tr>\n",
       "    <tr>\n",
       "      <th>6</th>\n",
       "      <td>1</td>\n",
       "      <td>356</td>\n",
       "      <td>-1</td>\n",
       "    </tr>\n",
       "    <tr>\n",
       "      <th>7</th>\n",
       "      <td>1</td>\n",
       "      <td>442</td>\n",
       "      <td>-1</td>\n",
       "    </tr>\n",
       "    <tr>\n",
       "      <th>8</th>\n",
       "      <td>1</td>\n",
       "      <td>487</td>\n",
       "      <td>-1</td>\n",
       "    </tr>\n",
       "    <tr>\n",
       "      <th>9</th>\n",
       "      <td>1</td>\n",
       "      <td>846</td>\n",
       "      <td>-1</td>\n",
       "    </tr>\n",
       "  </tbody>\n",
       "</table>\n",
       "</div>"
      ],
      "text/plain": [
       "   user_id  anime_id  rating\n",
       "0        1        20      -1\n",
       "1        1        24      -1\n",
       "2        1        79      -1\n",
       "3        1       226      -1\n",
       "4        1       241      -1\n",
       "5        1       355      -1\n",
       "6        1       356      -1\n",
       "7        1       442      -1\n",
       "8        1       487      -1\n",
       "9        1       846      -1"
      ]
     },
     "execution_count": 13,
     "metadata": {},
     "output_type": "execute_result"
    }
   ],
   "source": [
    "rating_df.head(10)"
   ]
  },
  {
   "cell_type": "code",
   "execution_count": 14,
   "metadata": {
    "execution": {
     "iopub.execute_input": "2021-10-01T11:14:37.597424Z",
     "iopub.status.busy": "2021-10-01T11:14:37.597093Z",
     "iopub.status.idle": "2021-10-01T11:15:47.099461Z",
     "shell.execute_reply": "2021-10-01T11:15:47.098642Z",
     "shell.execute_reply.started": "2021-10-01T11:14:37.597390Z"
    }
   },
   "outputs": [],
   "source": [
    "reader = Reader()\n",
    "rating_data = Dataset.load_from_df(rating_df, reader)\n",
    "svd = SVD()"
   ]
  },
  {
   "cell_type": "code",
   "execution_count": 15,
   "metadata": {},
   "outputs": [],
   "source": [
    "cross_validate(svd, rating_data, measures=['RMSE', 'MAE'], cv=3, verbose=True)"
   ]
  },
  {
   "cell_type": "code",
   "execution_count": 16,
   "metadata": {
    "execution": {
     "iopub.execute_input": "2021-10-01T11:15:47.101331Z",
     "iopub.status.busy": "2021-10-01T11:15:47.101060Z"
    }
   },
   "outputs": [],
   "source": [
    "trainset = rating_data.build_full_trainset()"
   ]
  },
  {
   "cell_type": "code",
   "execution_count": 17,
   "metadata": {
    "scrolled": true
   },
   "outputs": [],
   "source": [
    "svd.fit(trainset)"
   ]
  },
  {
   "cell_type": "code",
   "execution_count": 18,
   "metadata": {},
   "outputs": [],
   "source": [
    "svd.predict(1, 356, -1)"
   ]
  },
  {
   "cell_type": "code",
   "execution_count": 19,
   "metadata": {},
   "outputs": [],
   "source": [
    "import joblib\n",
    "joblib.dump(svd,'svd.joblib')"
   ]
  },
  {
   "cell_type": "code",
   "execution_count": 21,
   "metadata": {},
   "outputs": [],
   "source": [
    "# import joblib\n",
    "\n",
    "# model = joblib.load('svd.joblib')"
   ]
  },
  {
   "cell_type": "markdown",
   "metadata": {},
   "source": [
    "## Hybrid Filtering"
   ]
  },
  {
   "cell_type": "code",
   "execution_count": 142,
   "metadata": {},
   "outputs": [],
   "source": [
    "id_map = anime_df[['MAL_ID']]\n",
    "id_map['id'] = list(range(1,anime_df.shape[0]+1,1))\n",
    "id_map = id_map.merge(anime_df[['MAL_ID', 'Name']], on='MAL_ID').set_index('Name')"
   ]
  },
  {
   "cell_type": "code",
   "execution_count": 143,
   "metadata": {},
   "outputs": [],
   "source": [
    "indices_map = id_map.set_index('id')"
   ]
  },
  {
   "cell_type": "code",
   "execution_count": 144,
   "metadata": {},
   "outputs": [],
   "source": [
    "def hybrid_recommendations(user_id,title):\n",
    "    idx = indices[title]\n",
    "    sim_scores = list(enumerate(cosine_sim[idx]))\n",
    "    sim_scores = sorted(sim_scores, key=lambda x: x[1], reverse=True)\n",
    "    sim_scores = sim_scores[1:31]\n",
    "    anime_indices = [i[0] for i in sim_scores]\n",
    "    \n",
    "    anime_lst = anime_df.iloc[anime_indices][['MAL_ID','Name', 'Members', 'Score','Genres']]\n",
    "    favorite_count = anime_lst[anime_lst['Members'].notnull()]['Members'].astype('int')\n",
    "    score_avg = anime_lst[anime_lst['Score'].notnull()]['Score'].astype('float')\n",
    "    C = score_avg.mean()\n",
    "    m = favorite_count.quantile(0.60)\n",
    "    qualified = anime_lst[(anime_lst['Members'] >= m) & (anime_lst['Members'].notnull()) & (anime_lst['Score'].notnull())]    \n",
    "    qualified['Members'] = qualified['Members'].astype('int')\n",
    "    qualified['Score'] = qualified['Score'].astype('float')\n",
    "    def weighted_rating(x):\n",
    "        v = x['Members']\n",
    "        R = x['Score']\n",
    "        return (v/(v+m) * R) + (m/(m+v) * C)   \n",
    "    \n",
    "    qualified['wr'] = qualified.apply(weighted_rating, axis=1)\n",
    "    qualified = qualified.sort_values('wr', ascending=False).head(30)    \n",
    "    \n",
    "    qualified[['id']] = list(range(1,qualified.shape[0]+1,1))  \n",
    "    qualified['est'] = qualified['id'].apply(lambda x: model.predict(user_id, indices_map.loc[x]['MAL_ID']).est)\n",
    "    qualified = qualified.sort_values('est', ascending=False)\n",
    "    result = qualified[['MAL_ID','Name','Genres','Score']]\n",
    "    return result.head(10)    "
   ]
  },
  {
   "cell_type": "code",
   "execution_count": 145,
   "metadata": {},
   "outputs": [
    {
     "data": {
      "text/html": [
       "<div>\n",
       "<style scoped>\n",
       "    .dataframe tbody tr th:only-of-type {\n",
       "        vertical-align: middle;\n",
       "    }\n",
       "\n",
       "    .dataframe tbody tr th {\n",
       "        vertical-align: top;\n",
       "    }\n",
       "\n",
       "    .dataframe thead th {\n",
       "        text-align: right;\n",
       "    }\n",
       "</style>\n",
       "<table border=\"1\" class=\"dataframe\">\n",
       "  <thead>\n",
       "    <tr style=\"text-align: right;\">\n",
       "      <th></th>\n",
       "      <th>MAL_ID</th>\n",
       "      <th>Name</th>\n",
       "      <th>Genres</th>\n",
       "      <th>Score</th>\n",
       "    </tr>\n",
       "  </thead>\n",
       "  <tbody>\n",
       "    <tr>\n",
       "      <th>5289</th>\n",
       "      <td>37345</td>\n",
       "      <td>Plunderer</td>\n",
       "      <td>Action, Ecchi, Fantasy, Shounen</td>\n",
       "      <td>6.50</td>\n",
       "    </tr>\n",
       "    <tr>\n",
       "      <th>180</th>\n",
       "      <td>239</td>\n",
       "      <td>Gankutsuou</td>\n",
       "      <td>Drama, Mystery, Sci-Fi, Supernatural, Thriller</td>\n",
       "      <td>8.17</td>\n",
       "    </tr>\n",
       "    <tr>\n",
       "      <th>1943</th>\n",
       "      <td>4106</td>\n",
       "      <td>Trigun: Badlands Rumble</td>\n",
       "      <td>Action, Adventure, Comedy, Drama, Sci-Fi, Shounen</td>\n",
       "      <td>7.97</td>\n",
       "    </tr>\n",
       "    <tr>\n",
       "      <th>900</th>\n",
       "      <td>1535</td>\n",
       "      <td>Death Note</td>\n",
       "      <td>Mystery, Police, Psychological, Supernatural, ...</td>\n",
       "      <td>8.63</td>\n",
       "    </tr>\n",
       "    <tr>\n",
       "      <th>2664</th>\n",
       "      <td>7785</td>\n",
       "      <td>Yojouhan Shinwa Taikei</td>\n",
       "      <td>Mystery, Comedy, Psychological, Romance</td>\n",
       "      <td>8.61</td>\n",
       "    </tr>\n",
       "    <tr>\n",
       "      <th>24</th>\n",
       "      <td>43</td>\n",
       "      <td>Koukaku Kidoutai</td>\n",
       "      <td>Action, Mecha, Police, Psychological, Sci-Fi, ...</td>\n",
       "      <td>8.29</td>\n",
       "    </tr>\n",
       "    <tr>\n",
       "      <th>1775</th>\n",
       "      <td>3588</td>\n",
       "      <td>Soul Eater</td>\n",
       "      <td>Action, Fantasy, Comedy, Supernatural, Shounen</td>\n",
       "      <td>7.88</td>\n",
       "    </tr>\n",
       "    <tr>\n",
       "      <th>5604</th>\n",
       "      <td>39565</td>\n",
       "      <td>Boku no Hero Academia the Movie 2: Heroes:Rising</td>\n",
       "      <td>Action, Super Power, Shounen</td>\n",
       "      <td>8.08</td>\n",
       "    </tr>\n",
       "    <tr>\n",
       "      <th>5090</th>\n",
       "      <td>35848</td>\n",
       "      <td>Promare</td>\n",
       "      <td>Action, Mecha, Sci-Fi, Super Power</td>\n",
       "      <td>8.08</td>\n",
       "    </tr>\n",
       "    <tr>\n",
       "      <th>3232</th>\n",
       "      <td>12445</td>\n",
       "      <td>Tasogare Otome x Amnesia</td>\n",
       "      <td>Horror, Mystery, Romance, School, Shounen, Sup...</td>\n",
       "      <td>7.86</td>\n",
       "    </tr>\n",
       "  </tbody>\n",
       "</table>\n",
       "</div>"
      ],
      "text/plain": [
       "      MAL_ID                                              Name  \\\n",
       "5289   37345                                         Plunderer   \n",
       "180      239                                        Gankutsuou   \n",
       "1943    4106                           Trigun: Badlands Rumble   \n",
       "900     1535                                        Death Note   \n",
       "2664    7785                            Yojouhan Shinwa Taikei   \n",
       "24        43                                  Koukaku Kidoutai   \n",
       "1775    3588                                        Soul Eater   \n",
       "5604   39565  Boku no Hero Academia the Movie 2: Heroes:Rising   \n",
       "5090   35848                                           Promare   \n",
       "3232   12445                          Tasogare Otome x Amnesia   \n",
       "\n",
       "                                                 Genres  Score  \n",
       "5289                    Action, Ecchi, Fantasy, Shounen   6.50  \n",
       "180      Drama, Mystery, Sci-Fi, Supernatural, Thriller   8.17  \n",
       "1943  Action, Adventure, Comedy, Drama, Sci-Fi, Shounen   7.97  \n",
       "900   Mystery, Police, Psychological, Supernatural, ...   8.63  \n",
       "2664            Mystery, Comedy, Psychological, Romance   8.61  \n",
       "24    Action, Mecha, Police, Psychological, Sci-Fi, ...   8.29  \n",
       "1775     Action, Fantasy, Comedy, Supernatural, Shounen   7.88  \n",
       "5604                       Action, Super Power, Shounen   8.08  \n",
       "5090                 Action, Mecha, Sci-Fi, Super Power   8.08  \n",
       "3232  Horror, Mystery, Romance, School, Shounen, Sup...   7.86  "
      ]
     },
     "execution_count": 145,
     "metadata": {},
     "output_type": "execute_result"
    }
   ],
   "source": [
    "hybrid_recommendations(1, 'Trigun')"
   ]
  }
 ],
 "metadata": {
  "interpreter": {
   "hash": "c003e6e6c80cd68e20b59527b58cb83d9fcbd03036f15b52367027014ce59824"
  },
  "kernelspec": {
   "display_name": "Python 3",
   "language": "python",
   "name": "python3"
  },
  "language_info": {
   "codemirror_mode": {
    "name": "ipython",
    "version": 3
   },
   "file_extension": ".py",
   "mimetype": "text/x-python",
   "name": "python",
   "nbconvert_exporter": "python",
   "pygments_lexer": "ipython3",
   "version": "3.8.5"
  }
 },
 "nbformat": 4,
 "nbformat_minor": 4
}
